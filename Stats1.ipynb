{
 "cells": [
  {
   "cell_type": "code",
   "execution_count": null,
   "metadata": {},
   "outputs": [],
   "source": [
    "1.Calculate the mean, median, mode and standard deviation for the problem\n",
    "statements 1& 2.\n",
    "Problem Statement 1:\n",
    "The marks awarded for an assignment set for a Year 8 class of 20 students were as\n",
    "follows:\n",
    "6 7 5 7 7 8 7 6 9 7 4 10 6 8 8 9 5 6 4 8"
   ]
  },
  {
   "cell_type": "code",
   "execution_count": 29,
   "metadata": {},
   "outputs": [],
   "source": [
    "from scipy import stats\n",
    "import numpy as np\n",
    "def func(data):\n",
    "    print('Mean of given data is:',np.mean(data))\n",
    "    print('Median of given data is:',np.median(data))\n",
    "    print('Mode of given data is:',stats.mode(data))"
   ]
  },
  {
   "cell_type": "code",
   "execution_count": 30,
   "metadata": {},
   "outputs": [
    {
     "name": "stdout",
     "output_type": "stream",
     "text": [
      "Mean of given data is: 6.85\n",
      "Median of given data is: 7.0\n",
      "Mode of given data is: ModeResult(mode=array([7]), count=array([5]))\n"
     ]
    }
   ],
   "source": [
    "func([6,7,5,7,7,8,7,6,9,7,4,10,6,8,8,9,5,6,4,8])"
   ]
  },
  {
   "cell_type": "code",
   "execution_count": null,
   "metadata": {},
   "outputs": [],
   "source": []
  },
  {
   "cell_type": "code",
   "execution_count": null,
   "metadata": {},
   "outputs": [],
   "source": [
    "2.The number of calls from motorists per day for roadside service was recorded for a\n",
    "particular month:\n",
    "28, 122, 217, 130, 120, 86, 80, 90, 140, 120, 70, 40, 145, 113, 90, 68, 174, 194, 170,\n",
    "100, 75, 104, 97, 75,\n",
    "123, 100, 75, 104, 97, 75, 123, 100, 89, 120, 109"
   ]
  },
  {
   "cell_type": "code",
   "execution_count": 31,
   "metadata": {},
   "outputs": [
    {
     "name": "stdout",
     "output_type": "stream",
     "text": [
      "Mean of given data is: 107.51428571428572\n",
      "Median of given data is: 100.0\n",
      "Mode of given data is: ModeResult(mode=array([75]), count=array([4]))\n"
     ]
    }
   ],
   "source": [
    "func([28, 122, 217, 130, 120, 86, 80, 90, 140, 120, 70, 40, 145, 113, 90, 68, 174, 194, 170,100, 75, 104, 97, 75,\n",
    "123, 100, 75, 104, 97, 75, 123, 100, 89, 120, 109])"
   ]
  },
  {
   "cell_type": "code",
   "execution_count": null,
   "metadata": {},
   "outputs": [],
   "source": []
  },
  {
   "cell_type": "code",
   "execution_count": 42,
   "metadata": {},
   "outputs": [],
   "source": [
    "3.##The number of times I go to the gym in weekdays, are given below along with its\n",
    "#associated probability:\n",
    "#x = 0, 1, 2, 3, 4, 5\n",
    "#f(x) = 0.09, 0.15, 0.40, 0.25, 0.10, 0.01\n",
    "#Calculate the mean no. of workouts in a week. Also evaluate the variance involved in\n",
    "#it."
   ]
  },
  {
   "cell_type": "code",
   "execution_count": 32,
   "metadata": {},
   "outputs": [
    {
     "name": "stdout",
     "output_type": "stream",
     "text": [
      "Mean is : 0.35833333333333334\n",
      "Variance is : 0.10284722222222224\n"
     ]
    }
   ],
   "source": [
    "x = [0, 1, 2, 3, 4, 5]\n",
    "prob = [0.09, 0.15, 0.40, 0.25, 0.10, 0.01]\n",
    "data=[]\n",
    "for i in range(len(x)):\n",
    "    data.append(x[i]*prob[i])\n",
    "print('Mean is :',np.mean(data))\n",
    "print('Variance is :',np.var(data))"
   ]
  },
  {
   "cell_type": "code",
   "execution_count": null,
   "metadata": {},
   "outputs": [],
   "source": []
  },
  {
   "cell_type": "code",
   "execution_count": null,
   "metadata": {},
   "outputs": [],
   "source": [
    "4.Let the continuous random variable D denote the diameter of the hole drilled in an\n",
    "aluminum sheet. The target diameter to be achieved is 12.5mm. Random\n",
    "disturbances in the process often result in inaccuracy.\n",
    "Historical data shows that the distribution of D can be modelled by the PDF (d) =\n",
    "20e−20(d−12.5), d ≥ 12.5. If a part with diameter > 12.6 mm needs to be scrapped,\n",
    "what is the proportion of those parts? What is the CDF when the diameter is of 11\n",
    "mm? What is your conclusion regarding the proportion of scraps?\n"
   ]
  },
  {
   "cell_type": "code",
   "execution_count": 180,
   "metadata": {},
   "outputs": [
    {
     "name": "stdout",
     "output_type": "stream",
     "text": [
      "The proportion of the parts with diameter greater than 12.6mm is: 0.13533528323661398\n",
      "The proportion of the parts with diameter is 11mm is: 0.0\n"
     ]
    }
   ],
   "source": [
    "from scipy.integrate import quad\n",
    "import numpy as np\n",
    "def prob_func(d):\n",
    "    return (20*np.exp(-20*(d-12.5)))\n",
    "result=quad(prob_func,a=12.6,b=np.inf)[0]\n",
    "result1=quad(prob_func,a=11,b=11)[0]\n",
    "print(\"The proportion of the parts with diameter greater than 12.6mm is:\",result)\n",
    "print(\"The proportion of the parts with diameter is 11mm is:\",result1)\n"
   ]
  },
  {
   "cell_type": "code",
   "execution_count": null,
   "metadata": {},
   "outputs": [],
   "source": []
  },
  {
   "cell_type": "code",
   "execution_count": null,
   "metadata": {},
   "outputs": [],
   "source": [
    "5.A company manufactures LED bulbs with a faulty rate of 30%. If I randomly select 6\n",
    "chosen LEDs, what is the probability of having 2 faulty LEDs in my sample?\n",
    "Calculate the average value of this process. Also evaluate the standard deviation\n",
    "associated with it."
   ]
  },
  {
   "cell_type": "code",
   "execution_count": 11,
   "metadata": {},
   "outputs": [
    {
     "name": "stdout",
     "output_type": "stream",
     "text": [
      "Probability of 2 Faulty LED: 0.3085\n",
      "Mean: 1.8245\n",
      "Variance:1.1720493803590357\n"
     ]
    }
   ],
   "source": [
    "from scipy.stats import binom\n",
    "import numpy as np\n",
    "binom=np.random.binomial(6,0.3,2000)\n",
    "prob_2=np.sum(binom==2)/2000\n",
    "mean=binom.mean()\n",
    "std=binom.std()\n",
    "print(f\"Probability of 2 Faulty LED: {prob_2}\")\n",
    "print(f\"Mean: {mean}\")\n",
    "print(f\"Variance:{std}\")"
   ]
  },
  {
   "cell_type": "code",
   "execution_count": null,
   "metadata": {},
   "outputs": [],
   "source": []
  },
  {
   "cell_type": "code",
   "execution_count": null,
   "metadata": {},
   "outputs": [],
   "source": [
    "6.Gaurav and Barakha are both preparing for entrance exams. Gaurav attempts to\n",
    "solve 8 questions per day with a correction rate of 75%, while Barakha averages\n",
    "around 12 questions per day with a correction rate of 45%. What is the probability\n",
    "that each of them will solve 5 questions correctly? What happens in cases of 4 and 6\n",
    "correct solutions? What do you infer from it? What are the two main governing\n",
    "factors affecting their ability to solve questions correctly? Give a pictorial\n",
    "representation of the same to validate your answer."
   ]
  },
  {
   "cell_type": "code",
   "execution_count": 164,
   "metadata": {},
   "outputs": [
    {
     "name": "stdout",
     "output_type": "stream",
     "text": [
      "probability of Gaurav solve 5 questions correctly: 0.625\n",
      "probability of Barakha solve 5 questions correctly: 0.4166666666666667\n",
      "probability of Gaurav solve 4 questions correctly: 0.5\n",
      "probability of Barakha solve 4 questions correctly: 0.3333333333333333\n",
      "probability of Gaurav solve 6 questions correctly: 0.75\n",
      "probability of Barakha solve 6 questions correctly: 0.5\n"
     ]
    }
   ],
   "source": [
    "def correct_ques(n):\n",
    "    print(f'probability of Gaurav solve {n} questions correctly:',n/8)\n",
    "    print(f'probability of Barakha solve {n} questions correctly:',n/12)\n",
    "correct_ques(5)\n",
    "correct_ques(4)\n",
    "correct_ques(6)"
   ]
  },
  {
   "cell_type": "code",
   "execution_count": null,
   "metadata": {},
   "outputs": [],
   "source": [
    "7.Customers arrive at a rate of 72 per hour to my shop. What is the probability of k\n",
    "customers arriving in 4 minutes? a) 5 customers, b) not more than 3 customers, c)\n",
    "more than 3 customers. Give a pictorial representation of the same to validate your\n",
    "answer."
   ]
  },
  {
   "cell_type": "code",
   "execution_count": 17,
   "metadata": {},
   "outputs": [
    {
     "name": "stdout",
     "output_type": "stream",
     "text": [
      "Prob of 5 customers: 0.17474768364388296\n",
      "Prob of not more than 3 customers: 0.29422991649656405\n",
      "Prob of not more than 3 customers: 0.705770083503436\n"
     ]
    }
   ],
   "source": [
    "from scipy.stats import poisson\n",
    "import matplotlib.pyplot as plt\n",
    "mean=(72/60)*4\n",
    "customers_5=poisson.pmf(5,mean)\n",
    "customers_not_morethan_3=sum(poisson.pmf([0,1,2,3],mean))\n",
    "morethan_3_customers=1-customers_not_morethan_3\n",
    "print(f\"Prob of 5 customers: {customers_5}\")\n",
    "print(f\"Prob of not more than 3 customers: {customers_not_morethan_3}\")\n",
    "print(f\"Prob of not more than 3 customers: {morethan_3_customers}\")\n",
    "plt."
   ]
  },
  {
   "cell_type": "code",
   "execution_count": 29,
   "metadata": {},
   "outputs": [
    {
     "data": {
      "text/plain": [
       "<matplotlib.axes._subplots.AxesSubplot at 0x28ecd2989d0>"
      ]
     },
     "execution_count": 29,
     "metadata": {},
     "output_type": "execute_result"
    },
    {
     "data": {
      "image/png": "[encoded data removed]",
      "text/plain": [
       "<Figure size 432x288 with 1 Axes>"
      ]
     },
     "metadata": {
      "needs_background": "light"
     },
     "output_type": "display_data"
    }
   ],
   "source": [
    "import seaborn as sbn\n",
    "import numpy as np\n",
    "from scipy.stats import poisson\n",
    "data=poisson.rvs(mu=4.8,size=1000)\n",
    "sbn.distplot(data)"
   ]
  },
  {
   "cell_type": "code",
   "execution_count": null,
   "metadata": {},
   "outputs": [],
   "source": []
  },
  {
   "cell_type": "code",
   "execution_count": null,
   "metadata": {},
   "outputs": [],
   "source": [
    "8.I work as a data analyst in Aeon Learning Pvt. Ltd. After analyzing data, I make\n",
    "reports, where I have the efficiency of entering 77 words per minute with 6 errors per\n",
    "hour. What is the probability that I will commit 2 errors in a 455-word financial report?\n",
    "What happens when the no. of words increases/decreases (in case of 1000 words,\n",
    "255 words)?\n",
    "How is the λ affected?\n",
    "How does it influence the PMF?\n",
    "Give a pictorial representation of the same to validate your answer."
   ]
  },
  {
   "cell_type": "code",
   "execution_count": 16,
   "metadata": {},
   "outputs": [],
   "source": [
    "from scipy.stats import poisson\n",
    "def prob_error(words):\n",
    "    mean=(words*6)/(77*60)\n",
    "    error_2=poisson.pmf(2,mean)\n",
    "    return error_2\n",
    "words_455=prob_error(455)\n",
    "words_1000=prob_error(1000)\n",
    "words_255=prob_error(255)"
   ]
  },
  {
   "cell_type": "code",
   "execution_count": 17,
   "metadata": {},
   "outputs": [
    {
     "name": "stdout",
     "output_type": "stream",
     "text": [
      "2 errors in a 455-word financial report: 0.09669027375144444\n",
      "2 errors in a 1000-word financial report: 0.23012815007300153\n",
      "2 errors in a 255-word financial report: 0.039377135392854104\n"
     ]
    }
   ],
   "source": [
    "print('2 errors in a 455-word financial report:',words_455)\n",
    "print('2 errors in a 1000-word financial report:',words_1000)\n",
    "print('2 errors in a 255-word financial report:',words_255)"
   ]
  },
  {
   "cell_type": "code",
   "execution_count": null,
   "metadata": {},
   "outputs": [],
   "source": []
  },
  {
   "cell_type": "code",
   "execution_count": null,
   "metadata": {},
   "outputs": [],
   "source": [
    "10.Please compute the following:\n",
    "a) P(Z > 1.26), . P(Z < −0.86), P(Z > −1.37), P(−1.25 < Z < 0.37), . P(Z ≤ −4.6)\n",
    "b) Find the value z such that P(Z > z) = 0.05\n",
    "c) Find the value of z such that P(−z < Z < z) = 0.99"
   ]
  },
  {
   "cell_type": "code",
   "execution_count": 159,
   "metadata": {},
   "outputs": [
    {
     "name": "stdout",
     "output_type": "stream",
     "text": [
      "P(Z > 1.26):  0.102\n",
      "P(Z < -0.86):  0.1922\n",
      "P(Z > -1.37):  0.9131\n",
      "P(−1.25 < Z < 0.37):  0.5331\n",
      "value z such that P(Z > z) = 0.05:  -1.64\n",
      "value of z such that P(−z < Z < z): 2.57\n"
     ]
    }
   ],
   "source": [
    "print('P(Z > 1.26): ',round(st.norm.sf(abs(1.27)),4))\n",
    "print('P(Z < -0.86): ',round(st.norm.sf(abs(-.87)),4))\n",
    "print('P(Z > -1.37): ',round(1-st.norm.sf(abs(-1.36)),4))\n",
    "print('P(−1.25 < Z < 0.37): ',round(-st.norm.sf(0.36)+st.norm.sf((-1.24)),4))\n",
    "print('value z such that P(Z > z) = 0.05: ',round(st.norm.ppf(.05),2))\n",
    "print('value of z such that P(−z < Z < z):',abs(round(st.norm.ppf(.099)*2,2)))"
   ]
  },
  {
   "cell_type": "code",
   "execution_count": null,
   "metadata": {},
   "outputs": [],
   "source": []
  },
  {
   "cell_type": "code",
   "execution_count": null,
   "metadata": {},
   "outputs": [],
   "source": [
    "11.The current flow in a copper wire follow a normal distribution with a mean of 10 mA\n",
    "and a variance of 4 (mA)2.\n",
    "What is the probability that a current measurement will exceed 13 mA? What is the\n",
    "probability that a current measurement is between 9 and 11mA? Determine the\n",
    "current measurement which has a probability of 0.98."
   ]
  },
  {
   "cell_type": "code",
   "execution_count": 48,
   "metadata": {
    "scrolled": true
   },
   "outputs": [
    {
     "name": "stdout",
     "output_type": "stream",
     "text": [
      "probability that a current measurement will exceed 13 𝑚𝐴: 0.06680720126885809\n",
      "probability that a current measurement is between 9 and 11mA: 0.38292492254802624\n",
      "current measurement which has a probability of 0.98: 14.107497821263646\n"
     ]
    }
   ],
   "source": [
    "import scipy.stats as st\n",
    "mean=10\n",
    "std=2\n",
    "print(\"probability that a current measurement will exceed 13 𝑚𝐴:\",1-(st.norm.cdf(x=13,loc=mean,scale=std)))\n",
    "print(\"probability that a current measurement is between 9 and 11mA:\",(st.norm.cdf(x=11,loc=mean,scale=std)-st.norm.cdf(x=9,loc=mean,scale=std)))\n",
    "print(\"current measurement which has a probability of 0.98:\",st.norm.ppf(q=0.98,loc=mean,scale=std))"
   ]
  },
  {
   "cell_type": "code",
   "execution_count": null,
   "metadata": {},
   "outputs": [],
   "source": []
  },
  {
   "cell_type": "code",
   "execution_count": null,
   "metadata": {},
   "outputs": [],
   "source": [
    "12.The shaft in a piston has its diameter normally distributed with a mean of 0.2508 inch\n",
    "and a standard deviation of 0.0005 inch. The specifications of the shaft are 0.2500 ∓\n",
    "0.0015 inch. What proportion of shafts are in sync with the specifications? If the\n",
    "process is centered so that the mean is equal to the target value of 0.2500, what\n",
    "proportion of shafts conform to the new specifications? What is your conclusion from\n",
    "this experiment?"
   ]
  },
  {
   "cell_type": "code",
   "execution_count": 101,
   "metadata": {},
   "outputs": [
    {
     "name": "stdout",
     "output_type": "stream",
     "text": [
      "prob of specifications of the shaft of 0.2515 inch: 0.9192433407662225\n",
      "Shaft value error please change the value\n",
      "new shaft range:  0.24902995810039696\n",
      "Portion of shafts are in sync with the specifications: 0.24902995810039696 and 0.2515\n",
      "Percentage of shafts are in sync with the specifications: 82.33472998676783\n",
      "prob of specifications of the shaft of 0.2500 inch: 0.9986501019683699\n",
      "prob of specifications of the shaft of 0.2485 inch: 0.0013498980316300813\n"
     ]
    }
   ],
   "source": [
    "import scipy.stats as st\n",
    "mean=0.2508\n",
    "std=0.0005\n",
    "print('prob of specifications of the shaft of 0.2515 inch:',st.norm.cdf(x=.2515,loc=mean,scale=std))\n",
    "if (st.norm.cdf(x=.2515,loc=mean,scale=std))<1:\n",
    "    print('Shaft value error please change the value')\n",
    "print('new shaft range: ',st.norm.ppf(q=0.0002,loc=mean,scale=std))\n",
    "error=((st.norm.ppf(q=0.0002,loc=mean,scale=std)-.2485)/(.2515-.2485))*100\n",
    "print('Portion of shafts are in sync with the specifications:',st.norm.ppf(q=0.0002,loc=mean,scale=std),'and',0.2515)\n",
    "print('Percentage of shafts are in sync with the specifications:',100-error)\n",
    "mean1=0.2500\n",
    "print('prob of specifications of the shaft of 0.2500 inch:',st.norm.cdf(x=.2515,loc=mean1,scale=std))\n",
    "print('prob of specifications of the shaft of 0.2485 inch:',st.norm.cdf(x=.2485,loc=mean1,scale=std))"
   ]
  },
  {
   "cell_type": "markdown",
   "metadata": {},
   "source": []
  }
 ],
 "metadata": {
  "kernelspec": {
   "display_name": "Python 3",
   "language": "python",
   "name": "python3"
  },
  "language_info": {
   "codemirror_mode": {
    "name": "ipython",
    "version": 3
   },
   "file_extension": ".py",
   "mimetype": "text/x-python",
   "name": "python",
   "nbconvert_exporter": "python",
   "pygments_lexer": "ipython3",
   "version": "3.8.3"
  }
 },
 "nbformat": 4,
 "nbformat_minor": 4
}
