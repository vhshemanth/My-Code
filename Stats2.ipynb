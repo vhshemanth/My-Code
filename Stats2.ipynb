{
 "cells": [
  {
   "cell_type": "code",
   "execution_count": null,
   "metadata": {},
   "outputs": [],
   "source": [
    "1.In each of the following situations, state whether it is a correctly stated hypothesis\n",
    "testing problem and why?\n",
    "1. H0: μ = 25, H1: μ ≠ 25\n",
    "2. H0: σ > 10, H1: σ = 10\n",
    "3. H0: x = 50, H1: x ≠ 50\n",
    "4. H0: p = 0.1, H1: p = 0.5\n",
    "5. H0: s = 30, H1: s > 30"
   ]
  },
  {
   "cell_type": "code",
   "execution_count": 29,
   "metadata": {},
   "outputs": [
    {
     "name": "stdout",
     "output_type": "stream",
     "text": [
      "H0: μ = 25, H1: μ ≠ 25 : Correct Hypothesis\t because if mean =25 then other should be mean≠25\n",
      "\n",
      "H0: σ > 10, H1: σ = 10 : Not Correct Hypothesis\t because if var > 10 then other should be var<=10\n",
      "\n",
      "H0: x = 50, H1: x ≠ 50 : Correct Hypothesis\t because if mean =50 then other should be mean≠50\n",
      "\n",
      "H0: p = 0.1, H1: p = 0.5 :Not Correct Hypothesis\t because if prob =0.1 then other should be p≠10\n",
      "\n",
      "H0: s = 30, H1: s > 30 : Correct Hypothesis\t because if s =30 then other can be s≠30 or s>30 or s<30\n"
     ]
    }
   ],
   "source": [
    "print('H0: μ = 25, H1: μ ≠ 25 : Correct Hypothesis\\t because if mean =25 then other should be mean≠25\\n')\n",
    "print('H0: σ > 10, H1: σ = 10 : Not Correct Hypothesis\\t because if var > 10 then other should be var<=10\\n')\n",
    "print('H0: x = 50, H1: x ≠ 50 : Correct Hypothesis\\t because if mean =50 then other should be mean≠50\\n')\n",
    "print('H0: p = 0.1, H1: p = 0.5 :Not Correct Hypothesis\\t because if prob =0.1 then other should be p≠10\\n')\n",
    "print('H0: s = 30, H1: s > 30 : Correct Hypothesis\\t because if s =30 then other can be s≠30 or s>30 or s<30')"
   ]
  },
  {
   "cell_type": "code",
   "execution_count": null,
   "metadata": {},
   "outputs": [],
   "source": []
  },
  {
   "cell_type": "code",
   "execution_count": null,
   "metadata": {},
   "outputs": [],
   "source": [
    "2.The college bookstore tells prospective students that the average cost of its\n",
    "textbooks is Rs. 52 with a standard deviation of Rs. 4.50. A group of smart statistics\n",
    "students thinks that the average cost is higher. To test the bookstore’s claim against\n",
    "their alternative, the students will select a random sample of size 100. Assume that\n",
    "the mean from their random sample is Rs. 52.80. Perform a hypothesis test at the\n",
    "5% level of significance and state your decision."
   ]
  },
  {
   "cell_type": "code",
   "execution_count": 20,
   "metadata": {},
   "outputs": [
    {
     "name": "stdout",
     "output_type": "stream",
     "text": [
      "average cost is higher\n"
     ]
    }
   ],
   "source": [
    "from scipy import stats\n",
    "import numpy as np\n",
    "mean=52\n",
    "std=4.5\n",
    "sample=100\n",
    "samplemean=52.80\n",
    "se=std/np.sqrt(sample)\n",
    "z_test=(samplemean-mean)/se\n",
    "z_table=round(stats.norm.ppf(0.05),2)\n",
    "if z_test>z_table:\n",
    "    print(\"average cost is higher\")\n",
    "else:\n",
    "    print(\"average cost is not higher\")"
   ]
  },
  {
   "cell_type": "code",
   "execution_count": null,
   "metadata": {},
   "outputs": [],
   "source": []
  },
  {
   "cell_type": "code",
   "execution_count": null,
   "metadata": {},
   "outputs": [],
   "source": [
    "3.A certain chemical pollutant in the Genesee River has been constant for several\n",
    "years with mean μ = 34 ppm (parts per million) and standard deviation σ = 8 ppm. A\n",
    "group of factory representatives whose companies discharge liquids into the river is\n",
    "now claiming that they have lowered the average with improved filtration devices. A\n",
    "group of environmentalists will test to see if this is true at the 1% level of\n",
    "significance. Assume \\ that their sample of size 50 gives a mean of 32.5 ppm.\n",
    "Perform a hypothesis test at the 1% level of significance and state your decision."
   ]
  },
  {
   "cell_type": "code",
   "execution_count": 14,
   "metadata": {},
   "outputs": [
    {
     "name": "stdout",
     "output_type": "stream",
     "text": [
      "have lowered the average with improved filtration devices\n"
     ]
    }
   ],
   "source": [
    "from scipy import stats\n",
    "import numpy as np\n",
    "mean=34\n",
    "std=8\n",
    "sample=50\n",
    "samplemean=32.5\n",
    "se=std/np.sqrt(sample)\n",
    "z_test=(samplemean-mean)/se\n",
    "z_table=round(stats.norm.ppf(0.01),2)\n",
    "if z_test>z_table:\n",
    "    print(\"have lowered the average with improved filtration devices\")\n",
    "else:\n",
    "    print(\"have not lowered the average with improved filtration devices\")"
   ]
  },
  {
   "cell_type": "code",
   "execution_count": null,
   "metadata": {},
   "outputs": [],
   "source": []
  },
  {
   "cell_type": "code",
   "execution_count": null,
   "metadata": {},
   "outputs": [],
   "source": [
    "4.Based on population figures and other general information on the U.S. population,\n",
    "suppose it has been estimated that, on average, a family of four in the U.S. spends\n",
    "about $1135 annually on dental expenditures. Suppose further that a regional dental\n",
    "association wants to test to determine if this figure is accurate for their area of\n",
    "country. To test this, 22 families of 4 are randomly selected from the population in\n",
    "that area of the country and a log is kept of the family’s dental expenditure for one\n",
    "year. The resulting data are given below. Assuming, that dental expenditure is\n",
    "normally distributed in the population, use the data and an alpha of 0.5 to test the\n",
    "dental association’s hypothesis.\n",
    "1008, 812, 1117, 1323, 1308, 1415, 831, 1021, 1287, 851, 930, 730, 699,\n",
    "872, 913, 944, 954, 987, 1695, 995, 1003, 994"
   ]
  },
  {
   "cell_type": "code",
   "execution_count": 70,
   "metadata": {},
   "outputs": [
    {
     "name": "stdout",
     "output_type": "stream",
     "text": [
      "accurate data\n"
     ]
    }
   ],
   "source": [
    "import numpy as np\n",
    "mean=1135\n",
    "data=[1008, 812, 1117, 1323, 1308, 1415, 831, 1021, 1287, 851, 930, 730, 699,\n",
    "872, 913, 944, 954, 987, 1695, 995, 1003, 994]\n",
    "sample_mean=np.mean(data)\n",
    "std=np.std(data)\n",
    "alpha=0.5\n",
    "sample=len(data)\n",
    "se=std/np.sqrt(sample)\n",
    "t_test=(sample_mean-mean)/se\n",
    "t_table=round(stats.t.ppf(alpha,sample-1),2)\n",
    "if t_test>t_table:\n",
    "    print(\"not accurate data\")\n",
    "else:\n",
    "    print(\"accurate data\")\n",
    "\n"
   ]
  },
  {
   "cell_type": "code",
   "execution_count": null,
   "metadata": {},
   "outputs": [],
   "source": []
  },
  {
   "cell_type": "code",
   "execution_count": null,
   "metadata": {},
   "outputs": [],
   "source": [
    "5.In a report prepared by the Economic Research Department of a major bank the\n",
    "Department manager maintains that the average annual family income on Metropolis\n",
    "is $48,432. What do you conclude about the validity of the report if a random sample\n",
    "of 400 families shows and average income of $48,574 with a standard deviation of\n",
    "2000?"
   ]
  },
  {
   "cell_type": "code",
   "execution_count": 29,
   "metadata": {},
   "outputs": [
    {
     "name": "stdout",
     "output_type": "stream",
     "text": [
      "average income is same\n"
     ]
    }
   ],
   "source": [
    "mean=48432\n",
    "sample=400\n",
    "samplemean=48574\n",
    "std=2000\n",
    "se=std/np.sqrt(sample)\n",
    "z_test=(samplemean-mean)/se\n",
    "z_table=round(stats.norm.ppf(0.05),2)\n",
    "if z_test>z_table:\n",
    "    print(\"average income is same\")\n",
    "else:\n",
    "    print(\"average income changed\")\n"
   ]
  },
  {
   "cell_type": "code",
   "execution_count": null,
   "metadata": {},
   "outputs": [],
   "source": []
  },
  {
   "cell_type": "code",
   "execution_count": null,
   "metadata": {},
   "outputs": [],
   "source": [
    "6.Suppose that in past years the average price per square foot for warehouses in the\n",
    "United States has been $32.28. A national real estate investor wants to determine\n",
    "whether that figure has changed now. The investor hires a researcher who randomly\n",
    "samples 19 warehouses that are for sale across the United States and finds that the\n",
    "mean price per square foot is $31.67, with a standard deviation of $1.29. assume\n",
    "that the prices of warehouse footage are normally distributed in population. If the\n",
    "researcher uses a 5% level of significance, what statistical conclusion can be\n",
    "reached? What are the hypotheses?"
   ]
  },
  {
   "cell_type": "code",
   "execution_count": 17,
   "metadata": {},
   "outputs": [
    {
     "name": "stdout",
     "output_type": "stream",
     "text": [
      "average price per square foot has changed\n"
     ]
    }
   ],
   "source": [
    "mean=32.28\n",
    "sample=19\n",
    "samplemean=31.67\n",
    "std=1.29\n",
    "se=std/np.sqrt(sample)\n",
    "t_test=(samplemean-mean)/se\n",
    "t_table=round(stats.t.ppf(0.05,sample-1),2)\n",
    "if t_test>t_table:\n",
    "    print(\"average price per square foot has not changed\")\n",
    "else:\n",
    "    print(\"average price per square foot has changed\")\n"
   ]
  },
  {
   "cell_type": "code",
   "execution_count": null,
   "metadata": {},
   "outputs": [],
   "source": []
  },
  {
   "cell_type": "code",
   "execution_count": null,
   "metadata": {},
   "outputs": [],
   "source": [
    "7.Fill in the blank spaces in the table and draw your conclusions from it.\n",
    "48.5<x<51.5"
   ]
  },
  {
   "cell_type": "code",
   "execution_count": 97,
   "metadata": {},
   "outputs": [
    {
     "name": "stdout",
     "output_type": "stream",
     "text": [
      "alpha value: 0.057779571123597204\n"
     ]
    }
   ],
   "source": [
    "\n",
    "se=std/np.sqrt(sample_size)\n",
    "z1=(48.5-50)/se\n",
    "z2=(51.5-50)/se\n",
    "print('alpha value:',stats.norm.sf(abs(z1))+stats.norm.sf(abs(z2)))\n"
   ]
  },
  {
   "cell_type": "code",
   "execution_count": null,
   "metadata": {},
   "outputs": [],
   "source": []
  },
  {
   "cell_type": "code",
   "execution_count": null,
   "metadata": {},
   "outputs": [],
   "source": []
  },
  {
   "cell_type": "code",
   "execution_count": 5,
   "metadata": {},
   "outputs": [
    {
     "name": "stdout",
     "output_type": "stream",
     "text": [
      "beta at 52: 0.2635398549728464\n"
     ]
    }
   ],
   "source": [
    "import scipy.stats as stats\n",
    "import numpy as np\n",
    "sample_size=10\n",
    "mean=52\n",
    "true_mean=50\n",
    "std=2.5\n",
    "se=std/np.sqrt(sample_size)\n",
    "z1=(48.5-mean)/se\n",
    "z2=(51.5-mean)/se\n",
    "print('beta at 52:',stats.norm.sf(z1)-stats.norm.sf(z2))\n"
   ]
  },
  {
   "cell_type": "code",
   "execution_count": null,
   "metadata": {},
   "outputs": [],
   "source": []
  },
  {
   "cell_type": "code",
   "execution_count": 110,
   "metadata": {},
   "outputs": [
    {
     "name": "stdout",
     "output_type": "stream",
     "text": [
      "beta at 50.5: 0.8913423764409649\n"
     ]
    }
   ],
   "source": [
    "mean=50.5\n",
    "se=std/np.sqrt(sample_size)\n",
    "z1=(48.5-mean)/se\n",
    "z2=(51.5-mean)/se\n",
    "print('beta at 50.5:',stats.norm.sf(z1)-stats.norm.sf(z2))"
   ]
  },
  {
   "cell_type": "code",
   "execution_count": null,
   "metadata": {},
   "outputs": [],
   "source": [
    "48<x<52"
   ]
  },
  {
   "cell_type": "code",
   "execution_count": 8,
   "metadata": {},
   "outputs": [
    {
     "name": "stdout",
     "output_type": "stream",
     "text": [
      "alpha value: 0.0013742758758316942\n"
     ]
    }
   ],
   "source": [
    "\n",
    "se=std/np.sqrt(sample_size)\n",
    "z1=(48-50)/se\n",
    "z2=(52-50)/se\n",
    "print('alpha value:',stats.norm.sf(abs(z1))+stats.norm.sf(abs(z2)))\n"
   ]
  },
  {
   "cell_type": "code",
   "execution_count": 111,
   "metadata": {},
   "outputs": [
    {
     "name": "stdout",
     "output_type": "stream",
     "text": [
      "beta at 52.5: 0.49999978998030115\n"
     ]
    }
   ],
   "source": [
    "mean=52\n",
    "se=std/np.sqrt(sample_size)\n",
    "z1=(48-mean)/se\n",
    "z2=(52-mean)/se\n",
    "print('beta at 52.5:',stats.norm.sf(z1)-stats.norm.sf(z2))"
   ]
  },
  {
   "cell_type": "code",
   "execution_count": 112,
   "metadata": {},
   "outputs": [
    {
     "name": "stdout",
     "output_type": "stream",
     "text": [
      "beta at 50.5: 0.9703275133092002\n"
     ]
    }
   ],
   "source": [
    "mean=50.5\n",
    "se=std/np.sqrt(sample_size)\n",
    "z1=(48-mean)/se\n",
    "z2=(52-mean)/se\n",
    "print('beta at 50.5:',stats.norm.sf(z1)-stats.norm.sf(z2))"
   ]
  },
  {
   "cell_type": "code",
   "execution_count": null,
   "metadata": {},
   "outputs": [],
   "source": [
    "48.81<x<51.9"
   ]
  },
  {
   "cell_type": "code",
   "execution_count": null,
   "metadata": {},
   "outputs": [],
   "source": []
  },
  {
   "cell_type": "code",
   "execution_count": 14,
   "metadata": {},
   "outputs": [
    {
     "name": "stdout",
     "output_type": "stream",
     "text": [
      "alpha value: 0.016395071849192262\n"
     ]
    }
   ],
   "source": [
    "\n",
    "se=std/np.sqrt(sample_size)\n",
    "z1=(48.5-50)/se\n",
    "z2=(51.5-50)/se\n",
    "print('alpha value:',stats.norm.sf(abs(z1))+stats.norm.sf(abs(z2)))\n"
   ]
  },
  {
   "cell_type": "code",
   "execution_count": 16,
   "metadata": {},
   "outputs": [
    {
     "name": "stdout",
     "output_type": "stream",
     "text": [
      "beta at 50.5: 0.9840290241059673\n"
     ]
    }
   ],
   "source": [
    "sample_size=16\n",
    "mean=50.5\n",
    "se=std/np.sqrt(sample_size)\n",
    "z1=(48.81-mean)/se\n",
    "z2=(51.9-mean)/se\n",
    "print('beta at 50.5:',stats.norm.sf(z1)-stats.norm.sf(z2))"
   ]
  },
  {
   "cell_type": "code",
   "execution_count": 17,
   "metadata": {},
   "outputs": [
    {
     "name": "stdout",
     "output_type": "stream",
     "text": [
      "beta at 50.5: 0.4364403708344303\n"
     ]
    }
   ],
   "source": [
    "sample_size=16\n",
    "mean=52\n",
    "se=std/np.sqrt(sample_size)\n",
    "z1=(48.81-mean)/se\n",
    "z2=(51.9-mean)/se\n",
    "print('beta at 50.5:',stats.norm.sf(z1)-stats.norm.sf(z2))"
   ]
  },
  {
   "cell_type": "code",
   "execution_count": null,
   "metadata": {},
   "outputs": [],
   "source": []
  },
  {
   "cell_type": "code",
   "execution_count": null,
   "metadata": {},
   "outputs": [],
   "source": [
    "48.42<x<51.58"
   ]
  },
  {
   "cell_type": "code",
   "execution_count": 18,
   "metadata": {},
   "outputs": [
    {
     "name": "stdout",
     "output_type": "stream",
     "text": [
      "beta at 50.5: 0.25079184307889046\n"
     ]
    }
   ],
   "source": [
    "sample_size=16\n",
    "mean=52\n",
    "se=std/np.sqrt(sample_size)\n",
    "z1=(48.42-mean)/se\n",
    "z2=(51.58-mean)/se\n",
    "print('beta at 52:',stats.norm.sf(z1)-stats.norm.sf(z2))"
   ]
  },
  {
   "cell_type": "code",
   "execution_count": 20,
   "metadata": {},
   "outputs": [
    {
     "name": "stdout",
     "output_type": "stream",
     "text": [
      "beta at 50.5: 0.9575685284788618\n"
     ]
    }
   ],
   "source": [
    "sample_size=16\n",
    "mean=50.5\n",
    "se=std/np.sqrt(sample_size)\n",
    "z1=(48.42-mean)/se\n",
    "z2=(51.58-mean)/se\n",
    "print('beta at 50.5:',stats.norm.sf(z1)-stats.norm.sf(z2))"
   ]
  },
  {
   "cell_type": "code",
   "execution_count": null,
   "metadata": {},
   "outputs": [],
   "source": []
  },
  {
   "cell_type": "code",
   "execution_count": null,
   "metadata": {},
   "outputs": [],
   "source": [
    "8.Find the t-score for a sample size of 16 taken from a population with mean 10 when\n",
    "the sample mean is 12 and the sample standard deviation is 1.5."
   ]
  },
  {
   "cell_type": "code",
   "execution_count": 31,
   "metadata": {},
   "outputs": [
    {
     "name": "stdout",
     "output_type": "stream",
     "text": [
      "T score is : 5.33\n"
     ]
    }
   ],
   "source": [
    "samplemean=12\n",
    "sample=16\n",
    "mean=10\n",
    "std=1.5\n",
    "se=std/np.sqrt(sample)\n",
    "t_score=(samplemean-mean)/se\n",
    "print('T score is :',round(t_score,2))"
   ]
  },
  {
   "cell_type": "code",
   "execution_count": null,
   "metadata": {},
   "outputs": [],
   "source": []
  },
  {
   "cell_type": "code",
   "execution_count": null,
   "metadata": {},
   "outputs": [],
   "source": [
    "9..Find the t-score below which we can expect 99% of sample means will fall if samples\n",
    "of size 16 are taken from a normally distributed population."
   ]
  },
  {
   "cell_type": "code",
   "execution_count": 18,
   "metadata": {},
   "outputs": [
    {
     "name": "stdout",
     "output_type": "stream",
     "text": [
      "t-score below which we can expect 99% of sample means: 2.602\n"
     ]
    }
   ],
   "source": [
    "sample=16\n",
    "df=sample-1\n",
    "a=stats.t.ppf(0.99,df)\n",
    "print('t-score below which we can expect 99% of sample means:',round(a,3))"
   ]
  },
  {
   "cell_type": "code",
   "execution_count": null,
   "metadata": {},
   "outputs": [],
   "source": []
  },
  {
   "cell_type": "code",
   "execution_count": null,
   "metadata": {},
   "outputs": [],
   "source": [
    "10.If a random sample of size 25 drawn from a normal population gives a mean of 60\n",
    "and a standard deviation of 4, find the range of t-scores where we can expect to find\n",
    "the middle 95% of all sample means. Compute the probability that (−t0.05 <t<t0.10)."
   ]
  },
  {
   "cell_type": "code",
   "execution_count": null,
   "metadata": {},
   "outputs": [],
   "source": []
  },
  {
   "cell_type": "code",
   "execution_count": null,
   "metadata": {},
   "outputs": [],
   "source": []
  },
  {
   "cell_type": "code",
   "execution_count": null,
   "metadata": {},
   "outputs": [],
   "source": [
    "11.Two-tailed test for difference between two population means\n",
    "Is there evidence to conclude that the number of people travelling from Bangalore to\n",
    "Chennai is different from the number of people travelling from Bangalore to Hosur in\n",
    "a week, given the following:\n",
    "Population 1: Bangalore to Chennai n1 = 1200\n",
    "x1 = 452\n",
    "s1 = 212\n",
    "Population 2: Bangalore to Hosur n2 = 800\n",
    "x2 = 523\n",
    "s2 = 185"
   ]
  },
  {
   "cell_type": "code",
   "execution_count": 18,
   "metadata": {},
   "outputs": [
    {
     "name": "stdout",
     "output_type": "stream",
     "text": [
      "Different number of people travelling from Bangalore to Chennai is different from the number    of people travelling from Bangalore to Hosur in a week\n"
     ]
    }
   ],
   "source": [
    "from scipy import stats \n",
    "import numpy as np\n",
    "n1 = 1200\n",
    "x1 = 452\n",
    "s1 = 212\n",
    "n2 = 800\n",
    "x2 = 523\n",
    "s2 = 185\n",
    "std=np.sqrt((((n1-1)*(s1**2))+((n2-1)*(s2**2)))/(n1+n2-2))\n",
    "z_test=(x1-x2)/(std*np.sqrt((1/n1)+(1/n2)))\n",
    "z_table=stats.norm.ppf(0.05/2)\n",
    "if z_test>z_table:\n",
    "    \n",
    "    print('Same number of people travelling from Bangalore to Chennai is different from the number\\\n",
    "    of people travelling from Bangalore to Hosur in a week')\n",
    "else:\n",
    "    print('Different number of people travelling from Bangalore to Chennai is different from the number\\\n",
    "    of people travelling from Bangalore to Hosur in a week')"
   ]
  },
  {
   "cell_type": "code",
   "execution_count": null,
   "metadata": {},
   "outputs": [],
   "source": []
  },
  {
   "cell_type": "code",
   "execution_count": null,
   "metadata": {},
   "outputs": [],
   "source": [
    "12.Is there evidence to conclude that the number of people preferring Duracell battery is\n",
    "different from the number of people preferring Energizer battery, given the following:\n",
    "Population 1: Duracell\n",
    "n1 = 100\n",
    "x1 = 308\n",
    "s1 = 84\n",
    "Population 2: Energizer\n",
    "n2 = 100\n",
    "x2 = 254\n",
    "s2 = 67"
   ]
  },
  {
   "cell_type": "code",
   "execution_count": 34,
   "metadata": {},
   "outputs": [
    {
     "name": "stdout",
     "output_type": "stream",
     "text": [
      "Same number of people preferring Duracell battery and Energizer battery\n"
     ]
    }
   ],
   "source": [
    "n1 = 100\n",
    "x1 = 308\n",
    "s1 = 84\n",
    "n2 = 100\n",
    "x2 = 254\n",
    "s2 = 67\n",
    "std=np.sqrt((((n1-1)*(s1**2))+((n2-1)*(s2**2)))/(n1+n2-2))\n",
    "t_test=(x1-x2)/(std*np.sqrt((1/n1)+(1/n2)))\n",
    "t_table=stats.t.ppf(0.05,n1+n2-2)\n",
    "if t_test>t_table:\n",
    "    \n",
    "    print('Same number of people preferring Duracell battery and Energizer battery')\n",
    "else:\n",
    "    print('Different number of people preferring Duracell battery and Energizer battery')"
   ]
  },
  {
   "cell_type": "code",
   "execution_count": null,
   "metadata": {},
   "outputs": [],
   "source": []
  },
  {
   "cell_type": "code",
   "execution_count": null,
   "metadata": {},
   "outputs": [],
   "source": [
    "13.Pooled estimate of the population variance\n",
    "Does the data provide sufficient evidence to conclude that average percentage\n",
    "increase in the price of sugar differs when it is sold at two different prices?\n",
    "Population 1: Price of sugar = Rs. 27.50 n1 = 14\n",
    "x1 = 0.317%\n",
    "s1 = 0.12%\n",
    "Population 2: Price of sugar = Rs. 20.00 n2 = 9\n",
    "x2 = 0.21%\n",
    "s2 = 0.11%"
   ]
  },
  {
   "cell_type": "code",
   "execution_count": 20,
   "metadata": {},
   "outputs": [
    {
     "name": "stdout",
     "output_type": "stream",
     "text": [
      "average percent price of sugar is not increasing when it is sold at two different prices\n"
     ]
    }
   ],
   "source": [
    "p1=27.50\n",
    "p2=20.00\n",
    "n1 = 14\n",
    "x1 = 0.317*p1\n",
    "s1 = 0.12*p1\n",
    "n2 = 9\n",
    "x2 = 0.21*p2\n",
    "s2 = 0.11*p2\n",
    "std=np.sqrt((((n1-1)*(s1**2))+((n2-1)*(s2**2)))/(n1+n2-2))\n",
    "t_test=(x1-x2)/(std*np.sqrt((1/n1)+(1/n2)))\n",
    "t_table=stats.t.ppf(0.05,n1+n2-2)\n",
    "if t_test>t_table:\n",
    "    \n",
    "    print('average percent price of sugar is not increasing when it is sold at two different prices')\n",
    "else:\n",
    "    print('average percent price of sugar is increasing when it is sold at two different prices')"
   ]
  },
  {
   "cell_type": "code",
   "execution_count": null,
   "metadata": {},
   "outputs": [],
   "source": []
  },
  {
   "cell_type": "code",
   "execution_count": null,
   "metadata": {},
   "outputs": [],
   "source": [
    "14.The manufacturers of compact disk players want to test whether a small price\n",
    "reduction is enough to increase sales of their product. Is there evidence that the\n",
    "small price reduction is enough to increase sales of compact disk players?\n",
    "Population 1: Before reduction\n",
    "n1 = 15\n",
    "x1 = Rs. 6598 s1 = Rs. 844\n",
    "Population 2: After reduction n2 = 12\n",
    "x2 = RS. 6870\n",
    "s2 = Rs. 669"
   ]
  },
  {
   "cell_type": "code",
   "execution_count": 26,
   "metadata": {},
   "outputs": [
    {
     "name": "stdout",
     "output_type": "stream",
     "text": [
      "small price reduction is not enough to increase sales of their product\n"
     ]
    }
   ],
   "source": [
    "n1 = 15\n",
    "x1 = 6598 \n",
    "s1 = 844\n",
    "n2 = 12\n",
    "x2 = 6870\n",
    "s2 = 669\n",
    "std=np.sqrt((((n1-1)*(s1**2))+((n2-1)*(s2**2)))/(n1+n2-2))\n",
    "t_test=(x1-x2)/(std*np.sqrt((1/n1)+(1/n2)))\n",
    "t_table=stats.t.ppf(0.05,n1+n2-2)\n",
    "if t_test>t_table:\n",
    "    \n",
    "    print('small price reduction is not enough to increase sales of their product')\n",
    "else:\n",
    "    print('small price reduction is enough to increase sales of their product')"
   ]
  },
  {
   "cell_type": "code",
   "execution_count": null,
   "metadata": {},
   "outputs": [],
   "source": []
  },
  {
   "cell_type": "code",
   "execution_count": null,
   "metadata": {},
   "outputs": [],
   "source": [
    "15.Comparisons of two population proportions when the hypothesized difference is zero\n",
    "Carry out a two-tailed test of the equality of banks’ share of the car loan market in\n",
    "1980 and 1995.\n",
    "Population 1: 1980\n",
    "n1 = 1000\n",
    "x1 = 53\n",
    "p 1 = 0.53\n",
    "Population 2: 1985\n",
    "n2 = 100\n",
    "x2 = 43\n",
    "p 2= 0.53"
   ]
  },
  {
   "cell_type": "code",
   "execution_count": 59,
   "metadata": {},
   "outputs": [
    {
     "name": "stdout",
     "output_type": "stream",
     "text": [
      "there is no equality of banks share of the car loan market in 1980 and 1995\n"
     ]
    }
   ],
   "source": [
    "from scipy import stats \n",
    "import numpy as np\n",
    "n1 = 1000\n",
    "x1 = 53\n",
    "p1= 0.53\n",
    "n2 = 100\n",
    "x2 = 43\n",
    "p2= 0.53\n",
    "p = (p1 * n1 + p2 * n2) / (n1 + n2)\n",
    "se=np.sqrt(p * ( 1 - p ) * ( (1/n1) + (1/n2) ))\n",
    "z=(p1 - p2) /se\n",
    "z_score=stats.norm.cdf(z)*2\n",
    "if z_test>.05:\n",
    "    \n",
    "    print('there is no equality of banks share of the car loan market in 1980 and 1995')\n",
    "else:\n",
    "    print('there is equality of banks share of the car loan market in 1980 and 1995')"
   ]
  },
  {
   "cell_type": "code",
   "execution_count": null,
   "metadata": {},
   "outputs": [],
   "source": []
  },
  {
   "cell_type": "code",
   "execution_count": null,
   "metadata": {},
   "outputs": [],
   "source": [
    "16.Carry out a one-tailed test to determine whether the population proportion of\n",
    "traveler’s check buyers who buy at least $2500 in checks when sweepstakes prizes\n",
    "are offered as at least 10% higher than the proportion of such buyers when no\n",
    "sweepstakes are on.\n",
    "Population 1: With sweepstakes\n",
    "n1 = 300\n",
    "x1 = 120\n",
    "p = 0.40\n",
    "Population 2: No sweepstakes n2 = 700\n",
    "x2 = 140\n",
    "p 2= 0.20"
   ]
  },
  {
   "cell_type": "code",
   "execution_count": 64,
   "metadata": {},
   "outputs": [
    {
     "name": "stdout",
     "output_type": "stream",
     "text": [
      "population proportion of traveler’s check buyers buy at least $2500 in checks when sweepstakes     prizes are offered as at least 10% higher\n"
     ]
    }
   ],
   "source": [
    "from scipy import stats \n",
    "import numpy as np\n",
    "n1 = 300\n",
    "x1 = 120\n",
    "p1= 0.40\n",
    "n2 = 700\n",
    "x2 = 140\n",
    "p2= 0.20\n",
    "p = (p1 * n1 + p2 * n2) / (n1 + n2)\n",
    "se=np.sqrt(p * ( 1 - p ) * ( (1/n1) + (1/n2) ))\n",
    "z=(p1 - p2) /se\n",
    "z_score=stats.norm.cdf(z)\n",
    "if z_score>0.05:\n",
    "    \n",
    "    print('population proportion of traveler’s check buyers buy at least $2500 in checks when sweepstakes \\\n",
    "    prizes are offered as at least 10% higher')\n",
    "else:\n",
    "    print('population proportion of traveler’s check buyers will not buy at least $2500 in checks when sweepstakes \\\n",
    "    prizes are offered as at least 10% higher')"
   ]
  },
  {
   "cell_type": "code",
   "execution_count": null,
   "metadata": {},
   "outputs": [],
   "source": []
  },
  {
   "cell_type": "code",
   "execution_count": null,
   "metadata": {},
   "outputs": [],
   "source": [
    "17.A die is thrown 132 times with the following results:\n",
    "Number turned up: 1, 2, 3, 4, 5, 6\n",
    "Frequency: 16, 20, 25, 14, 29, 28\n",
    "Is the die unbiased? Consider the degrees of freedom as p−1 ."
   ]
  },
  {
   "cell_type": "code",
   "execution_count": 35,
   "metadata": {},
   "outputs": [
    {
     "name": "stdout",
     "output_type": "stream",
     "text": [
      "Unbiased\n"
     ]
    }
   ],
   "source": [
    "\n",
    "from scipy.stats import chi2\n",
    "freq=[16, 20, 25, 14, 29, 28]\n",
    "df=len(freq)-1\n",
    "total=0\n",
    "total_counts=sum(freq)\n",
    "length=len(freq)\n",
    "E=total_counts/length\n",
    "for i in freq:\n",
    "    total+=((i-E)**2)/E\n",
    "p=1-chi2.cdf(total,df=df)\n",
    "if p>0.05:\n",
    "    print('Unbiased')\n",
    "else:\n",
    "    print(\"Not Unbiased\")"
   ]
  },
  {
   "cell_type": "code",
   "execution_count": null,
   "metadata": {},
   "outputs": [],
   "source": []
  },
  {
   "cell_type": "code",
   "execution_count": null,
   "metadata": {},
   "outputs": [],
   "source": [
    "18.In a certain town, there are about one million eligible voters. A simple random\n",
    "sample of 10,000 eligible voters was chosen to study the relationship between\n",
    "gender and participation in the last election. The results are summarized in the\n",
    "following 2X2 (read two by two) contingency table:\n",
    "\n",
    "We would want to check whether being a man or a woman (columns) is independent of\n",
    "having voted in the last election (rows). In other words, is “gender and voting independent”?"
   ]
  },
  {
   "cell_type": "code",
   "execution_count": 46,
   "metadata": {},
   "outputs": [
    {
     "name": "stdout",
     "output_type": "stream",
     "text": [
      "gender and voting dependent\n"
     ]
    }
   ],
   "source": [
    "from scipy.stats import chi2_contingency\n",
    "data=[[2792,1486],[3591,2131]]\n",
    "stat, p, dof, expected = chi2_contingency(data)\n",
    "alpha = 0.05\n",
    "if p > alpha: \n",
    "    print('gender and voting independent') \n",
    "else: \n",
    "    print('gender and voting dependent') \n"
   ]
  },
  {
   "cell_type": "code",
   "execution_count": null,
   "metadata": {},
   "outputs": [],
   "source": []
  },
  {
   "cell_type": "code",
   "execution_count": null,
   "metadata": {},
   "outputs": [],
   "source": [
    "19.A sample of 100 voters are asked which of four candidates they would vote for in an\n",
    "election. The number supporting each candidate is given below:\n",
    "41,19,24,16\n",
    "Do the data suggest that all candidates are equally popular? [Chi-Square = 14.96,\n",
    "with 3 df, p 0.05 ."
   ]
  },
  {
   "cell_type": "code",
   "execution_count": 111,
   "metadata": {},
   "outputs": [
    {
     "name": "stdout",
     "output_type": "stream",
     "text": [
      "voters do not prefer the four candidates equally.\n"
     ]
    }
   ],
   "source": [
    "data1=[41,19,24,16]\n",
    "E=sum(data)/len(data)\n",
    "total=0\n",
    "for i in data1:\n",
    "    total+=((i-E)**2)/E\n",
    "chi_table=chi2.ppf(0.95,3)\n",
    "if total>chi_table:\n",
    "    print('voters do not prefer the four candidates equally.')\n",
    "else:\n",
    "    print('voters prefer the four candidates equally.')\n",
    "    "
   ]
  },
  {
   "cell_type": "code",
   "execution_count": null,
   "metadata": {},
   "outputs": [],
   "source": []
  },
  {
   "cell_type": "code",
   "execution_count": null,
   "metadata": {},
   "outputs": [],
   "source": [
    "20.Children of three ages are asked to indicate their preference for three photographs of\n",
    "adults. Do the data suggest that there is a significant relationship between age and\n",
    "photograph preference? What is wrong with this study? [Chi-Square = 29.6, with 4\n",
    "df: p < 0.05]."
   ]
  },
  {
   "cell_type": "code",
   "execution_count": 27,
   "metadata": {},
   "outputs": [
    {
     "name": "stdout",
     "output_type": "stream",
     "text": [
      "there is no significant relationship between age and photograph preference\n"
     ]
    }
   ],
   "source": [
    "from scipy.stats import chi2_contingency\n",
    "from scipy.stats import chi2\n",
    "data=[[18,22,20],[2,28,40],[20,10,40]]\n",
    "stat, p, dof, expected = chi2_contingency(data)\n",
    "chi_table=chi2.ppf(0.95,dof)\n",
    "if stat>chi_table:\n",
    "    print('there is no significant relationship between age and photograph preference')\n",
    "else:\n",
    "    print('there is a significant relationship between age and photograph preference')\n",
    "    "
   ]
  },
  {
   "cell_type": "code",
   "execution_count": 28,
   "metadata": {},
   "outputs": [
    {
     "data": {
      "text/plain": [
       "9.487729036781154"
      ]
     },
     "execution_count": 28,
     "metadata": {},
     "output_type": "execute_result"
    }
   ],
   "source": [
    "chi_table"
   ]
  },
  {
   "cell_type": "code",
   "execution_count": null,
   "metadata": {},
   "outputs": [],
   "source": []
  },
  {
   "cell_type": "code",
   "execution_count": null,
   "metadata": {},
   "outputs": [],
   "source": [
    "21.A study of conformity using the Asch paradigm involved two conditions: one where\n",
    "one confederate supported the true judgement and another where no confederate\n",
    "gave the correct response.\n",
    "\n",
    "Is there a significant difference between the \"support\" and \"no support\" conditions in the\n",
    "frequency with which individuals are likely to conform? [Chi-Square = 19.87, with 1 df:\n",
    "p < 0.05]."
   ]
  },
  {
   "cell_type": "code",
   "execution_count": 46,
   "metadata": {},
   "outputs": [
    {
     "name": "stdout",
     "output_type": "stream",
     "text": [
      "there no significant difference between the \"support\" and \"no support\"\n"
     ]
    }
   ],
   "source": [
    "data=[[18,40],[32,10]]\n",
    "stat, p, dof, expected = chi2_contingency(data)\n",
    "chi_table=chi2.ppf(0.95,dof)\n",
    "if stat>chi_table:\n",
    "    print('there no significant difference between the \"support\" and \"no support\"')\n",
    "else:\n",
    "    print('there a significant difference between the \"support\" and \"no support\"')"
   ]
  },
  {
   "cell_type": "code",
   "execution_count": null,
   "metadata": {},
   "outputs": [],
   "source": []
  },
  {
   "cell_type": "code",
   "execution_count": null,
   "metadata": {},
   "outputs": [],
   "source": []
  },
  {
   "cell_type": "code",
   "execution_count": null,
   "metadata": {},
   "outputs": [],
   "source": [
    "22.We want to test whether short people differ with respect to their leadership qualities\n",
    "(Genghis Khan, Adolf Hitler and Napoleon were all stature-deprived, and how many midget\n",
    "MP's are there?) The following table shows the frequencies with which 43 short people and\n",
    "52 tall people were categorized as \"leaders\", \"followers\" or as \"unclassifiable\". Is there a\n",
    "relationship between height and leadership qualities?\n",
    "[Chi-Square = 10.71, with 2 df: p < 0.01]."
   ]
  },
  {
   "cell_type": "code",
   "execution_count": 59,
   "metadata": {},
   "outputs": [
    {
     "name": "stdout",
     "output_type": "stream",
     "text": [
      "there is a no relationship between height and leadership qualities\n"
     ]
    }
   ],
   "source": [
    "data=[[12,32],[23,14],[9,6]]\n",
    "stat, p, dof, expected = chi2_contingency(data)\n",
    "chi_table=chi2.ppf(0.99,dof)\n",
    "if stat>chi_table:\n",
    "    print('there is a no relationship between height and leadership qualities')\n",
    "else:\n",
    "    print('there is a relationship between height and leadership qualities')"
   ]
  },
  {
   "cell_type": "code",
   "execution_count": null,
   "metadata": {},
   "outputs": [],
   "source": []
  },
  {
   "cell_type": "code",
   "execution_count": null,
   "metadata": {},
   "outputs": [],
   "source": [
    "23.Each respondent in the Current Population Survey of March 1993 was classified as\n",
    "employed, unemployed, or outside the labor force. The results for men in California age 35-\n",
    "44 can be cross-tabulated by marital status, as follows:\n",
    "\n",
    "Men of different marital status seem to have different distributions of labor force status. Or is\n",
    "this just chance variation? (you may assume the table results from a simple random\n",
    "sample.)"
   ]
  },
  {
   "cell_type": "code",
   "execution_count": 62,
   "metadata": {},
   "outputs": [
    {
     "name": "stdout",
     "output_type": "stream",
     "text": [
      "there is a no relationship\n"
     ]
    }
   ],
   "source": [
    "data=[[679,103,114],[63,10,20],[42,18,25]]\n",
    "stat, p, dof, expected = chi2_contingency(data)\n",
    "chi_table=chi2.ppf(0.95,dof)\n",
    "if stat>chi_table:\n",
    "    print('there is a no relationship')\n",
    "else:\n",
    "    print('there is a relationship')"
   ]
  },
  {
   "cell_type": "code",
   "execution_count": null,
   "metadata": {},
   "outputs": [],
   "source": []
  }
 ],
 "metadata": {
  "kernelspec": {
   "display_name": "Python 3",
   "language": "python",
   "name": "python3"
  },
  "language_info": {
   "codemirror_mode": {
    "name": "ipython",
    "version": 3
   },
   "file_extension": ".py",
   "mimetype": "text/x-python",
   "name": "python",
   "nbconvert_exporter": "python",
   "pygments_lexer": "ipython3",
   "version": "3.8.3"
  }
 },
 "nbformat": 4,
 "nbformat_minor": 4
}
