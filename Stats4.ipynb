{
 "cells": [
  {
   "cell_type": "markdown",
   "metadata": {},
   "source": [
    "Problem Statement 1:\n",
    "Is gender independent of education level? A random sample of 395 people were\n",
    "surveyed and each person was asked to report the highest education level they\n",
    "obtained. The data that resulted from the survey is summarized in the following table:\n",
    "High School Bachelors Masters Ph.d. Total\n",
    "Female 60 54 46 41 201\n",
    "Male 40 44 53 57 194\n",
    "Total 100 98 99 98 395\n",
    "Question: Are gender and education level dependent at 5% level of significance? In\n",
    "other words, given the data collected above, is there a relationship between the\n",
    "gender of an individual and the level of education that they have obtained?"
   ]
  },
  {
   "cell_type": "code",
   "execution_count": 43,
   "metadata": {},
   "outputs": [
    {
     "name": "stdout",
     "output_type": "stream",
     "text": [
      "there is a significant relationship between gender of an individual and the level of education that they have obtained\n"
     ]
    }
   ],
   "source": [
    "from scipy.stats import chi2_contingency\n",
    "from scipy.stats import chi2\n",
    "sample_size=395\n",
    "data=[[60,54,46,41],[40,44,53,57]]\n",
    "stat, p, dof, expected = chi2_contingency(data)\n",
    "chi_table=chi2.ppf(0.95,dof)\n",
    "if p>.05:\n",
    "    print('there is no significant relationship between gender of an individual and the level of education that they have obtained')\n",
    "else:\n",
    "    print('there is a significant relationship between gender of an individual and the level of education that they have obtained')\n",
    "    "
   ]
  },
  {
   "cell_type": "code",
   "execution_count": null,
   "metadata": {},
   "outputs": [],
   "source": []
  },
  {
   "cell_type": "markdown",
   "metadata": {},
   "source": [
    "Using the following data, perform a oneway analysis of variance using α=.05. Write\n",
    "up the results in APA format.\n",
    "\n",
    "[Group1: 51, 45, 33, 45, 67]\n",
    "[Group2: 23, 43, 23, 43, 45]\n",
    "[Group3: 56, 76, 74, 87, 56]"
   ]
  },
  {
   "cell_type": "code",
   "execution_count": 10,
   "metadata": {},
   "outputs": [
    {
     "name": "stdout",
     "output_type": "stream",
     "text": [
      "Collecting pyapa\n",
      "  Downloading pyapa-0.2.1-py2.py3-none-any.whl (9.3 kB)\n",
      "Installing collected packages: pyapa\n",
      "Successfully installed pyapa-0.2.1\n",
      "Note: you may need to restart the kernel to use updated packages.\n"
     ]
    }
   ],
   "source": [
    "pip install pyapa"
   ]
  },
  {
   "cell_type": "code",
   "execution_count": 42,
   "metadata": {},
   "outputs": [
    {
     "name": "stdout",
     "output_type": "stream",
     "text": [
      "there is a significant relationship between groups \n"
     ]
    }
   ],
   "source": [
    "import pyapa.pyapa as pa\n",
    "data=[[51,45,33,45,67],[23,43,23,43,45],[56,76,74,87,56]]\n",
    "stat, p, dof, expected = chi2_contingency(data)\n",
    "chi_table=chi2.ppf(0.95,dof)\n",
    "if p>.05:\n",
    "    print('there is no significant relationship between grops')\n",
    "else:\n",
    "    print('there is a significant relationship between groups ')\n",
    "    "
   ]
  },
  {
   "cell_type": "code",
   "execution_count": null,
   "metadata": {},
   "outputs": [],
   "source": []
  },
  {
   "cell_type": "code",
   "execution_count": null,
   "metadata": {},
   "outputs": [],
   "source": [
    "Calculate F Test for given 10, 20, 30, 40, 50 and 5,10,15, 20, 25.\n"
   ]
  },
  {
   "cell_type": "code",
   "execution_count": 59,
   "metadata": {},
   "outputs": [
    {
     "name": "stdout",
     "output_type": "stream",
     "text": [
      "F Test vale is 4.0\n"
     ]
    }
   ],
   "source": [
    "import numpy as np\n",
    "data1=[10,20,30,40,50]\n",
    "data2=[5,10,15,20,25]\n",
    "sum1=0\n",
    "sum2=0\n",
    "mean1=np.mean(data1)\n",
    "mean2=np.mean(data2)\n",
    "for i in data1:\n",
    "    sum1+=(i-mean1)**2\n",
    "for i in data2:\n",
    "    sum2+=(i-mean2)**2\n",
    "var1=sum1/(len(data1)-1)\n",
    "var2=sum2/(len(data2)-1)\n",
    "F_test=var1/var2\n",
    "print(f'F Test vale is {F_test}')"
   ]
  },
  {
   "cell_type": "code",
   "execution_count": null,
   "metadata": {},
   "outputs": [],
   "source": []
  },
  {
   "cell_type": "code",
   "execution_count": null,
   "metadata": {},
   "outputs": [],
   "source": []
  }
 ],
 "metadata": {
  "kernelspec": {
   "display_name": "Python 3",
   "language": "python",
   "name": "python3"
  },
  "language_info": {
   "codemirror_mode": {
    "name": "ipython",
    "version": 3
   },
   "file_extension": ".py",
   "mimetype": "text/x-python",
   "name": "python",
   "nbconvert_exporter": "python",
   "pygments_lexer": "ipython3",
   "version": "3.8.3"
  }
 },
 "nbformat": 4,
 "nbformat_minor": 4
}
