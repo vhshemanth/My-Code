{
 "cells": [
  {
   "cell_type": "code",
   "execution_count": null,
   "metadata": {},
   "outputs": [],
   "source": [
    "Blood glucose levels for obese patients have a mean of 100 with a standard deviation of\n",
    "15. A researcher thinks that a diet high in raw cornstarch will have a positive effect on\n",
    "blood glucose levels. A sample of 36 patients who have tried the raw cornstarch diet\n",
    "have a mean glucose level of 108. Test the hypothesis that the raw cornstarch had an\n",
    "effect or not."
   ]
  },
  {
   "cell_type": "code",
   "execution_count": 8,
   "metadata": {},
   "outputs": [
    {
     "name": "stdout",
     "output_type": "stream",
     "text": [
      "Raw constrach had no affect.\n"
     ]
    }
   ],
   "source": [
    "import numpy as np\n",
    "from scipy import stats\n",
    "mean=100\n",
    "std=15\n",
    "sample_size=36\n",
    "sample_mean=108\n",
    "se=std/np.sqrt(sample_size)\n",
    "z_test=(sample_mean-mean)/se\n",
    "p=stats.norm.cdf(z_test)\n",
    "if p>0.5:\n",
    "    print('Raw constrach had no affect.')\n",
    "else:\n",
    "    print(\"Raw constrach had affect.\")\n",
    "    "
   ]
  },
  {
   "cell_type": "code",
   "execution_count": null,
   "metadata": {},
   "outputs": [],
   "source": []
  },
  {
   "cell_type": "code",
   "execution_count": null,
   "metadata": {},
   "outputs": [],
   "source": [
    "In one state, 52% of the voters are Republicans, and 48% are Democrats. In a second\n",
    "state, 47% of the voters are Republicans, and 53% are Democrats. Suppose a simple\n",
    "random sample of 100 voters are surveyed from each state.\n",
    "What is the probability that the survey will show a greater percentage of Republican\n",
    "voters in the second state than in the first state?"
   ]
  },
  {
   "cell_type": "code",
   "execution_count": 19,
   "metadata": {},
   "outputs": [
    {
     "name": "stdout",
     "output_type": "stream",
     "text": [
      "greater percentage of Republican voters in the second state than in the first state\n"
     ]
    }
   ],
   "source": [
    "import numpy as np\n",
    "from scipy.stats import norm\n",
    "r1=52\n",
    "d2=48\n",
    "n1=100\n",
    "r2=47\n",
    "d2=53\n",
    "n2=100\n",
    "p1=0.52\n",
    "p2=0.47\n",
    "sample_mean=p1-p2\n",
    "mean=0\n",
    "se=np.sqrt((p1*(1-p1)/n1)+(p2*(1-p2)/n2))\n",
    "z_test=(mean-sample_mean)/se\n",
    "p=norm.cdf(z_test)\n",
    "if p>0.5:\n",
    "    print('same percentage of Republican voters in the second state and the first state')\n",
    "else:\n",
    "    print('greater percentage of Republican voters in the second state than in the first state')"
   ]
  },
  {
   "cell_type": "code",
   "execution_count": null,
   "metadata": {},
   "outputs": [],
   "source": []
  },
  {
   "cell_type": "code",
   "execution_count": null,
   "metadata": {},
   "outputs": [],
   "source": [
    "You take the SAT and score 1100. The mean score for the SAT is 1026 and the standard\n",
    "deviation is 209. How well did you score on the test compared to the average test taker?"
   ]
  },
  {
   "cell_type": "code",
   "execution_count": 12,
   "metadata": {},
   "outputs": [
    {
     "name": "stdout",
     "output_type": "stream",
     "text": [
      "0.354 standard deviations morethan the average test takers.\n",
      "63.83 % scored below my score\n"
     ]
    }
   ],
   "source": [
    "from scipy.stats import norm\n",
    "sample_mean=1100\n",
    "mean=1026\n",
    "std=209\n",
    "z=round((sample_mean-mean)/std,3)\n",
    "print(f\"{z} standard deviations morethan the average test takers.\")\n",
    "percent=round(norm.cdf(z)*100,2)\n",
    "print(f\"{percent} % scored below my score\")"
   ]
  },
  {
   "cell_type": "code",
   "execution_count": null,
   "metadata": {},
   "outputs": [],
   "source": []
  }
 ],
 "metadata": {
  "kernelspec": {
   "display_name": "Python 3",
   "language": "python",
   "name": "python3"
  },
  "language_info": {
   "codemirror_mode": {
    "name": "ipython",
    "version": 3
   },
   "file_extension": ".py",
   "mimetype": "text/x-python",
   "name": "python",
   "nbconvert_exporter": "python",
   "pygments_lexer": "ipython3",
   "version": "3.8.3"
  }
 },
 "nbformat": 4,
 "nbformat_minor": 4
}
